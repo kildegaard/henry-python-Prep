{
 "cells": [
  {
   "cell_type": "code",
   "execution_count": 1,
   "metadata": {},
   "outputs": [],
   "source": [
    "# 1\n",
    "def num_es_primo(num):\n",
    "    res_es_primo = True\n",
    "    for divisor in range(2, int(num/2 + 1)):\n",
    "        if num % divisor == 0:\n",
    "            res_es_primo = False\n",
    "            break\n",
    "    return res_es_primo"
   ]
  },
  {
   "cell_type": "code",
   "execution_count": 3,
   "metadata": {},
   "outputs": [
    {
     "name": "stdout",
     "output_type": "stream",
     "text": [
      "[0, 1, 2, 3, 5, 7, 11, 13, 17, 19, 23, 29, 31, 37, 41, 43, 47, 53, 59, 61, 67, 71, 73, 79, 83, 89, 97]\n"
     ]
    }
   ],
   "source": [
    "# 2\n",
    "lista_de_numeros = [n for n in range(100)]\n",
    "\n",
    "def filtro_de_primos(lista):\n",
    "    lista_de_primos = []\n",
    "    for num in lista:\n",
    "        if num_es_primo(num):\n",
    "            lista_de_primos.append(num)\n",
    "    return lista_de_primos\n",
    "\n",
    "lista_resultado = filtro_de_primos(lista_de_numeros)\n",
    "\n",
    "print(lista_resultado)"
   ]
  },
  {
   "cell_type": "code",
   "execution_count": null,
   "metadata": {},
   "outputs": [],
   "source": [
    "# 3\n"
   ]
  }
 ],
 "metadata": {
  "kernelspec": {
   "display_name": "Python 3",
   "language": "python",
   "name": "python3"
  },
  "language_info": {
   "codemirror_mode": {
    "name": "ipython",
    "version": 3
   },
   "file_extension": ".py",
   "mimetype": "text/x-python",
   "name": "python",
   "nbconvert_exporter": "python",
   "pygments_lexer": "ipython3",
   "version": "3.11.1"
  },
  "orig_nbformat": 4,
  "vscode": {
   "interpreter": {
    "hash": "5238573367df39f7286bb46f9ff5f08f63a01a80960060ce41e3c79b190280fa"
   }
  }
 },
 "nbformat": 4,
 "nbformat_minor": 2
}
