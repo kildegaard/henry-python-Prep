{
 "cells": [
  {
   "cell_type": "code",
   "execution_count": 1,
   "metadata": {},
   "outputs": [],
   "source": [
    "# 1\n",
    "def num_es_primo(num):\n",
    "    res_es_primo = True\n",
    "    for divisor in range(2, int(num/2 + 1)):\n",
    "        if num % divisor == 0:\n",
    "            res_es_primo = False\n",
    "            break\n",
    "    return res_es_primo"
   ]
  },
  {
   "cell_type": "code",
   "execution_count": 3,
   "metadata": {},
   "outputs": [
    {
     "name": "stdout",
     "output_type": "stream",
     "text": [
      "[0, 1, 2, 3, 5, 7, 11, 13, 17, 19, 23, 29, 31, 37, 41, 43, 47, 53, 59, 61, 67, 71, 73, 79, 83, 89, 97]\n"
     ]
    }
   ],
   "source": [
    "# 2\n",
    "lista_de_numeros = [n for n in range(100)]\n",
    "\n",
    "def filtro_de_primos(lista):\n",
    "    lista_de_primos = []\n",
    "    for num in lista:\n",
    "        if num_es_primo(num):\n",
    "            lista_de_primos.append(num)\n",
    "    return lista_de_primos\n",
    "\n",
    "lista_resultado = filtro_de_primos(lista_de_numeros)\n",
    "\n",
    "print(lista_resultado)"
   ]
  },
  {
   "cell_type": "code",
   "execution_count": 26,
   "metadata": {},
   "outputs": [
    {
     "name": "stdout",
     "output_type": "stream",
     "text": [
      "El número más repetido es el 1 con 3 repeticiones\n"
     ]
    }
   ],
   "source": [
    "# 3\n",
    "lis = [1, 2, 6, 1, 1, 9, 9, 9, 2, 2]\n",
    "\n",
    "def elem_repe_en_lista(lis):\n",
    "    numero_mas_repe = lis[0]\n",
    "    repe = lis.count(numero_mas_repe)\n",
    "    for elem in lis:\n",
    "        repe_aux = lis.count(elem)\n",
    "        if repe_aux > repe:\n",
    "            repe = repe_aux\n",
    "            numero_mas_repe = elem\n",
    "    return (numero_mas_repe, repe)\n",
    "\n",
    "num = elem_repe_en_lista(lis)\n",
    "\n",
    "print(f'El número más repetido es el {num[0]} con {num[1]} repeticiones')\n"
   ]
  },
  {
   "cell_type": "code",
   "execution_count": 30,
   "metadata": {},
   "outputs": [
    {
     "name": "stdout",
     "output_type": "stream",
     "text": [
      "El número más repetido es el 2 con 3 repeticiones\n"
     ]
    }
   ],
   "source": [
    "# 4\n",
    "lis = [1, 2, 6, 1, 1, 9, 9, 2, 2]\n",
    "\n",
    "def elem_repe_en_lista(lis):\n",
    "    numero_mas_repe = lis[0]\n",
    "    repe = lis.count(numero_mas_repe)\n",
    "    for elem in lis:\n",
    "        repe_aux = lis.count(elem)\n",
    "        if repe_aux >= repe:\n",
    "            if elem > numero_mas_repe:\n",
    "                numero_mas_repe = elem\n",
    "    return (numero_mas_repe, repe)\n",
    "\n",
    "num = elem_repe_en_lista(lis)\n",
    "\n",
    "print(f'El número más repetido es el {num[0]} con {num[1]} repeticiones')"
   ]
  },
  {
   "cell_type": "code",
   "execution_count": 70,
   "metadata": {},
   "outputs": [
    {
     "data": {
      "text/plain": [
       "273"
      ]
     },
     "execution_count": 70,
     "metadata": {},
     "output_type": "execute_result"
    }
   ],
   "source": [
    "# 5\n",
    "\n",
    "def calculadora_temperatura(valor: float, origen: str, destino: str) -> float:\n",
    "    origen = origen.lower()\n",
    "    destino = destino.lower()\n",
    "    t_convertida = None\n",
    "    if origen == destino:\n",
    "        t_convertida = valor\n",
    "    elif origen == 'k':\n",
    "        if destino == 'c':\n",
    "            t_convertida = valor - 273 # K -> C\n",
    "        else:\n",
    "            t_convertida = valor * 9/5 + (32 - 273 * 9/5) # K -> F\n",
    "    elif origen == 'c':\n",
    "        if destino == 'k':\n",
    "            t_convertida = valor + 273 # C -> K\n",
    "        else:\n",
    "            t_convertida = 9/5 * valor + 32 # C -> K\n",
    "    elif origen == 'f':\n",
    "        if destino == 'C':\n",
    "            t_convertida = 5/9 * (valor - 32) # F -> C\n",
    "        else:\n",
    "            t_convertida = 5/9 * (valor - (32 - 273 * 9/5))\n",
    "    return t_convertida\n",
    "\n",
    "calculadora_temperatura(0, 'C', 'k')"
   ]
  },
  {
   "cell_type": "code",
   "execution_count": null,
   "metadata": {},
   "outputs": [],
   "source": [
    "# 6\n",
    "lista_temp = []"
   ]
  },
  {
   "cell_type": "code",
   "execution_count": 90,
   "metadata": {},
   "outputs": [
    {
     "name": "stdout",
     "output_type": "stream",
     "text": [
      "Amigo flasheaste\n"
     ]
    }
   ],
   "source": [
    "# 7\n",
    "def factorial(n):\n",
    "    if isinstance(n, int) and (n >= 1):\n",
    "        if n == 1:\n",
    "            return 1\n",
    "        else:\n",
    "            valor = n * factorial(n - 1)\n",
    "        return valor\n",
    "    else:\n",
    "        print('Amigo flasheaste')"
   ]
  },
  {
   "cell_type": "code",
   "execution_count": null,
   "metadata": {},
   "outputs": [],
   "source": []
  }
 ],
 "metadata": {
  "kernelspec": {
   "display_name": "Python 3",
   "language": "python",
   "name": "python3"
  },
  "language_info": {
   "codemirror_mode": {
    "name": "ipython",
    "version": 3
   },
   "file_extension": ".py",
   "mimetype": "text/x-python",
   "name": "python",
   "nbconvert_exporter": "python",
   "pygments_lexer": "ipython3",
   "version": "3.11.1"
  },
  "orig_nbformat": 4,
  "vscode": {
   "interpreter": {
    "hash": "5238573367df39f7286bb46f9ff5f08f63a01a80960060ce41e3c79b190280fa"
   }
  }
 },
 "nbformat": 4,
 "nbformat_minor": 2
}
