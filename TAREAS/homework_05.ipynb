{
 "cells": [
  {
   "cell_type": "code",
   "execution_count": 4,
   "metadata": {},
   "outputs": [
    {
     "data": {
      "text/plain": [
       "[-15, -14, -13, -12, -11, -10, -9, -8, -7, -6, -5, -4, -3, -2, -1]"
      ]
     },
     "execution_count": 4,
     "metadata": {},
     "output_type": "execute_result"
    }
   ],
   "source": [
    "# 1\n",
    "lista_de_negativos = []\n",
    "\n",
    "num = -15\n",
    "while num < 0:\n",
    "    lista_de_negativos.append(num)\n",
    "    num += 1\n",
    "lista_de_negativos"
   ]
  },
  {
   "cell_type": "code",
   "execution_count": 5,
   "metadata": {},
   "outputs": [
    {
     "data": {
      "text/plain": [
       "[-15, -13, -11, -9, -7, -5, -3, -1]"
      ]
     },
     "execution_count": 5,
     "metadata": {},
     "output_type": "execute_result"
    }
   ],
   "source": [
    "# 2\n",
    "# Es posible recorrer solo los pares, así\n",
    "lista_de_negativos[::2]"
   ]
  },
  {
   "cell_type": "code",
   "execution_count": 10,
   "metadata": {},
   "outputs": [],
   "source": [
    "# 3\n",
    "# No usé While"
   ]
  },
  {
   "cell_type": "code",
   "execution_count": 11,
   "metadata": {},
   "outputs": [
    {
     "data": {
      "text/plain": [
       "[-15, -14, -13]"
      ]
     },
     "execution_count": 11,
     "metadata": {},
     "output_type": "execute_result"
    }
   ],
   "source": [
    "# 4\n",
    "lista_de_negativos[:3]"
   ]
  },
  {
   "cell_type": "code",
   "execution_count": 20,
   "metadata": {},
   "outputs": [
    {
     "name": "stdout",
     "output_type": "stream",
     "text": [
      "Posición     0 -   -15\n",
      "Posición     1 -   -14\n",
      "Posición     2 -   -13\n",
      "Posición     3 -   -12\n",
      "Posición     4 -   -11\n",
      "Posición     5 -   -10\n",
      "Posición     6 -    -9\n",
      "Posición     7 -    -8\n",
      "Posición     8 -    -7\n",
      "Posición     9 -    -6\n",
      "Posición    10 -    -5\n",
      "Posición    11 -    -4\n",
      "Posición    12 -    -3\n",
      "Posición    13 -    -2\n",
      "Posición    14 -    -1\n"
     ]
    }
   ],
   "source": [
    "# 5\n",
    "for idx, elem in enumerate(lista_de_negativos):\n",
    "    print(f'Posición {idx:>5d} - {elem:>5d}')"
   ]
  },
  {
   "cell_type": "code",
   "execution_count": 24,
   "metadata": {},
   "outputs": [],
   "source": [
    "# 6\n",
    "lista_con_faltantes = [1,2,5,7,8,10,13,14,15,17,20]\n",
    "\n"
   ]
  },
  {
   "cell_type": "code",
   "execution_count": 33,
   "metadata": {},
   "outputs": [
    {
     "data": {
      "text/plain": [
       "[1, 2, 3, 4, 5, 6, 7, 8, 9, 10, 11, 12, 13, 14, 15, 16, 17, 18, 19, 20]"
      ]
     },
     "execution_count": 33,
     "metadata": {},
     "output_type": "execute_result"
    }
   ],
   "source": [
    "def rellena_listas(l):\n",
    "    l_res = [l[0]]\n",
    "    for n in range(len(l) - 1):\n",
    "        if (l[n + 1] - l[n] - 1) == 0:\n",
    "            l_res.append(l[n + 1])\n",
    "        else:\n",
    "            for m in range(l[n] + 1, l[n+1]):\n",
    "                l_res.append(m)\n",
    "            l_res.append(l[n + 1])\n",
    "    return l_res\n",
    "\n",
    "lista_sin_faltantes = rellena_listas(lista_con_faltantes)\n",
    "\n",
    "lista_sin_faltantes"
   ]
  },
  {
   "cell_type": "code",
   "execution_count": null,
   "metadata": {},
   "outputs": [],
   "source": [
    "# 7\n"
   ]
  }
 ],
 "metadata": {
  "kernelspec": {
   "display_name": "Python 3",
   "language": "python",
   "name": "python3"
  },
  "language_info": {
   "codemirror_mode": {
    "name": "ipython",
    "version": 3
   },
   "file_extension": ".py",
   "mimetype": "text/x-python",
   "name": "python",
   "nbconvert_exporter": "python",
   "pygments_lexer": "ipython3",
   "version": "3.11.1"
  },
  "orig_nbformat": 4,
  "vscode": {
   "interpreter": {
    "hash": "5238573367df39f7286bb46f9ff5f08f63a01a80960060ce41e3c79b190280fa"
   }
  }
 },
 "nbformat": 4,
 "nbformat_minor": 2
}
