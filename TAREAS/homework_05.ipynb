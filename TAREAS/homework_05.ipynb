{
 "cells": [
  {
   "cell_type": "code",
   "execution_count": 4,
   "metadata": {},
   "outputs": [
    {
     "data": {
      "text/plain": [
       "[-15, -14, -13, -12, -11, -10, -9, -8, -7, -6, -5, -4, -3, -2, -1]"
      ]
     },
     "execution_count": 4,
     "metadata": {},
     "output_type": "execute_result"
    }
   ],
   "source": [
    "# 1\n",
    "lista_de_negativos = []\n",
    "\n",
    "num = -15\n",
    "while num < 0:\n",
    "    lista_de_negativos.append(num)\n",
    "    num += 1\n",
    "lista_de_negativos"
   ]
  },
  {
   "cell_type": "code",
   "execution_count": 5,
   "metadata": {},
   "outputs": [
    {
     "data": {
      "text/plain": [
       "[-15, -13, -11, -9, -7, -5, -3, -1]"
      ]
     },
     "execution_count": 5,
     "metadata": {},
     "output_type": "execute_result"
    }
   ],
   "source": [
    "# 2\n",
    "# Es posible recorrer solo los pares, así\n",
    "lista_de_negativos[::2]"
   ]
  },
  {
   "cell_type": "code",
   "execution_count": 10,
   "metadata": {},
   "outputs": [],
   "source": [
    "# 3\n",
    "# No usé While"
   ]
  },
  {
   "cell_type": "code",
   "execution_count": 11,
   "metadata": {},
   "outputs": [
    {
     "data": {
      "text/plain": [
       "[-15, -14, -13]"
      ]
     },
     "execution_count": 11,
     "metadata": {},
     "output_type": "execute_result"
    }
   ],
   "source": [
    "# 4\n",
    "lista_de_negativos[:3]"
   ]
  },
  {
   "cell_type": "code",
   "execution_count": 20,
   "metadata": {},
   "outputs": [
    {
     "name": "stdout",
     "output_type": "stream",
     "text": [
      "Posición     0 -   -15\n",
      "Posición     1 -   -14\n",
      "Posición     2 -   -13\n",
      "Posición     3 -   -12\n",
      "Posición     4 -   -11\n",
      "Posición     5 -   -10\n",
      "Posición     6 -    -9\n",
      "Posición     7 -    -8\n",
      "Posición     8 -    -7\n",
      "Posición     9 -    -6\n",
      "Posición    10 -    -5\n",
      "Posición    11 -    -4\n",
      "Posición    12 -    -3\n",
      "Posición    13 -    -2\n",
      "Posición    14 -    -1\n"
     ]
    }
   ],
   "source": [
    "# 5\n",
    "for idx, elem in enumerate(lista_de_negativos):\n",
    "    print(f'Posición {idx:>5d} - {elem:>5d}')"
   ]
  },
  {
   "cell_type": "code",
   "execution_count": 24,
   "metadata": {},
   "outputs": [],
   "source": [
    "# 6\n",
    "lista_con_faltantes = [1,2,5,7,8,10,13,14,15,17,20]\n",
    "\n"
   ]
  },
  {
   "cell_type": "code",
   "execution_count": 33,
   "metadata": {},
   "outputs": [
    {
     "data": {
      "text/plain": [
       "[1, 2, 3, 4, 5, 6, 7, 8, 9, 10, 11, 12, 13, 14, 15, 16, 17, 18, 19, 20]"
      ]
     },
     "execution_count": 33,
     "metadata": {},
     "output_type": "execute_result"
    }
   ],
   "source": [
    "def rellena_listas(l):\n",
    "    l_res = [l[0]]\n",
    "    for n in range(len(l) - 1):\n",
    "        if (l[n + 1] - l[n] - 1) == 0:\n",
    "            l_res.append(l[n + 1])\n",
    "        else:\n",
    "            for m in range(l[n] + 1, l[n+1]):\n",
    "                l_res.append(m)\n",
    "            l_res.append(l[n + 1])\n",
    "    return l_res\n",
    "\n",
    "lista_sin_faltantes = rellena_listas(lista_con_faltantes)\n",
    "\n",
    "lista_sin_faltantes"
   ]
  },
  {
   "cell_type": "code",
   "execution_count": 40,
   "metadata": {},
   "outputs": [],
   "source": [
    "# 7 Fibonacci\n",
    "\n",
    "fibo = [0, 1]\n",
    "n_end = 30\n",
    "\n",
    "for elem in range(2, n_end):\n",
    "    f = fibo[elem - 1] + fibo[elem - 2]\n",
    "    fibo.append(f)"
   ]
  },
  {
   "cell_type": "code",
   "execution_count": 43,
   "metadata": {},
   "outputs": [
    {
     "name": "stdout",
     "output_type": "stream",
     "text": [
      "1346268\n"
     ]
    }
   ],
   "source": [
    "# 8 \n",
    "contador = 0\n",
    "for num in fibo:\n",
    "    contador += num\n",
    "print(contador)"
   ]
  },
  {
   "cell_type": "code",
   "execution_count": 46,
   "metadata": {},
   "outputs": [
    {
     "data": {
      "text/plain": [
       "1346270"
      ]
     },
     "execution_count": 46,
     "metadata": {},
     "output_type": "execute_result"
    }
   ],
   "source": [
    "# 8 pero versión cheta\n",
    "# La función esta lo que hace es tipo el reduce de JAVASCRIPT, le pasás una función anónima y el objeto\n",
    "# sobre el que querés agarrar los elementos.\n",
    "# La función anónima tiene 2 parámetros: el primero es el acumulador y el 2do el valor que va recorriendo\n",
    "# del objeto mencionado anteriormente\n",
    "\n",
    "# Opcionalmente .reduce() puede tomar un 3er parámetro que es la inicialización del acumulador\n",
    "\n",
    "import functools as ft\n",
    "ft.reduce(lambda acum, elem: acum + elem, fibo)\n"
   ]
  },
  {
   "cell_type": "code",
   "execution_count": 67,
   "metadata": {},
   "outputs": [
    {
     "name": "stdout",
     "output_type": "stream",
     "text": [
      "1.618033989\n",
      "1.618033989\n",
      "1.618033989\n",
      "1.618033989\n",
      "1.618033989\n"
     ]
    }
   ],
   "source": [
    "# 9\n",
    "for i in range (1, 6):\n",
    "    print(f'{fibo[-i] / fibo[-i-1]:.9f}')"
   ]
  },
  {
   "cell_type": "code",
   "execution_count": 68,
   "metadata": {},
   "outputs": [
    {
     "name": "stdout",
     "output_type": "stream",
     "text": [
      "[7, 21, 39, 60, 67]\n"
     ]
    }
   ],
   "source": [
    "# 10\n",
    "cadena = 'Hola Mundo. Esto es una practica del lenguaje de programación Python'\n",
    "posiciones = []\n",
    "for idx, letra in enumerate(cadena):\n",
    "    if letra == 'n':\n",
    "        posiciones.append(idx)\n",
    "print(posiciones)\n"
   ]
  },
  {
   "cell_type": "code",
   "execution_count": 71,
   "metadata": {},
   "outputs": [
    {
     "name": "stdout",
     "output_type": "stream",
     "text": [
      "nombre\n",
      "edad\n",
      "raza\n"
     ]
    }
   ],
   "source": [
    "# 11\n",
    "diccio_creado = {\n",
    "    'nombre': 'Johnson',\n",
    "    'edad': 3,\n",
    "    'raza': 'mestizo'\n",
    "}\n",
    "\n",
    "for clave in diccio_creado:\n",
    "    print(clave)"
   ]
  },
  {
   "cell_type": "code",
   "execution_count": 74,
   "metadata": {},
   "outputs": [
    {
     "name": "stdout",
     "output_type": "stream",
     "text": [
      "H\n",
      "o\n",
      "l\n",
      "a\n",
      " \n",
      "M\n",
      "u\n",
      "n\n",
      "d\n",
      "o\n",
      ".\n",
      " \n",
      "E\n",
      "s\n",
      "t\n",
      "o\n",
      " \n",
      "e\n",
      "s\n",
      " \n",
      "u\n",
      "n\n",
      "a\n",
      " \n",
      "p\n",
      "r\n",
      "a\n",
      "c\n",
      "t\n",
      "i\n",
      "c\n",
      "a\n",
      " \n",
      "d\n",
      "e\n",
      "l\n",
      " \n",
      "l\n",
      "e\n",
      "n\n",
      "g\n",
      "u\n",
      "a\n",
      "j\n",
      "e\n",
      " \n",
      "d\n",
      "e\n",
      " \n",
      "p\n",
      "r\n",
      "o\n",
      "g\n",
      "r\n",
      "a\n",
      "m\n",
      "a\n",
      "c\n",
      "i\n",
      "ó\n",
      "n\n",
      " \n",
      "P\n",
      "y\n",
      "t\n",
      "h\n",
      "o\n",
      "n\n"
     ]
    }
   ],
   "source": [
    "# 12\n",
    "for letra in list(cadena):\n",
    "    print(letra)"
   ]
  },
  {
   "cell_type": "code",
   "execution_count": 75,
   "metadata": {},
   "outputs": [
    {
     "data": {
      "text/plain": [
       "((1, 'a'), (2, 'b'), (3, 'c'), (4, 'd'), (5, 'e'))"
      ]
     },
     "execution_count": 75,
     "metadata": {},
     "output_type": "execute_result"
    }
   ],
   "source": [
    "# 13\n",
    "lista1 = [1, 2, 3, 4, 5]\n",
    "lista2 = ['a', 'b', 'c', 'd', 'e']\n",
    "listas_unidas = tuple(zip(lista1, lista2))\n",
    "listas_unidas"
   ]
  },
  {
   "cell_type": "code",
   "execution_count": 76,
   "metadata": {},
   "outputs": [
    {
     "data": {
      "text/plain": [
       "[21, 35, 42, 56, 63, 84, 91]"
      ]
     },
     "execution_count": 76,
     "metadata": {},
     "output_type": "execute_result"
    }
   ],
   "source": [
    "# 14\n",
    "lis = [18,21,29,32,35,42,56,60,63,71,84,90,91,100]\n",
    "lis_nueva = [num for num in lis if (num % 7) == 0]\n",
    "lis_nueva"
   ]
  },
  {
   "cell_type": "code",
   "execution_count": 77,
   "metadata": {},
   "outputs": [
    {
     "data": {
      "text/plain": [
       "5"
      ]
     },
     "execution_count": 77,
     "metadata": {},
     "output_type": "execute_result"
    }
   ],
   "source": [
    "# 15\n",
    "lis2 = [[1,2,3,4],'rojo','verde',[True,False,False],['uno','dos','tres']]\n",
    "len(lis2)"
   ]
  },
  {
   "cell_type": "code",
   "execution_count": null,
   "metadata": {},
   "outputs": [],
   "source": [
    "# 16\n",
    "# No explica bien"
   ]
  }
 ],
 "metadata": {
  "kernelspec": {
   "display_name": "Python 3",
   "language": "python",
   "name": "python3"
  },
  "language_info": {
   "codemirror_mode": {
    "name": "ipython",
    "version": 3
   },
   "file_extension": ".py",
   "mimetype": "text/x-python",
   "name": "python",
   "nbconvert_exporter": "python",
   "pygments_lexer": "ipython3",
   "version": "3.11.1"
  },
  "orig_nbformat": 4,
  "vscode": {
   "interpreter": {
    "hash": "5238573367df39f7286bb46f9ff5f08f63a01a80960060ce41e3c79b190280fa"
   }
  }
 },
 "nbformat": 4,
 "nbformat_minor": 2
}
