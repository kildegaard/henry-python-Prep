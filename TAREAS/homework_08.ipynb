{
 "cells": [
  {
   "cell_type": "code",
   "execution_count": 119,
   "metadata": {},
   "outputs": [],
   "source": [
    "# 1\n",
    "class Herramientas:\n",
    "    def __init__(self, lista_numeros):\n",
    "        self.lista = lista_numeros\n",
    "        if (type(lista_numeros) != list):\n",
    "            self.lista = []\n",
    "            raise ValueError('Se ha creado una lista vacía. Se esperaba una lista de números')\n",
    "\n",
    "    \n",
    "    def verificar_primo(self):\n",
    "        resultados = []\n",
    "        for num in self.lista:\n",
    "            resultados.append(self.__verificar_primo(num))\n",
    "            if self.__verificar_primo(num):\n",
    "                print(f'El número {num} es primo')\n",
    "            else:\n",
    "                print(f'El número {num} no es primo')\n",
    "        return resultados\n",
    "    \n",
    "    def factorial(self):\n",
    "        resultados = []\n",
    "        for num in self.lista:\n",
    "            resultados.append(self.__factorial(num))\n",
    "            print(f'El factorial de {num} es {self.__factorial(num)}')\n",
    "        return resultados\n",
    "\n",
    "    def conversion_temperatura(self, origen, destino):\n",
    "        parametros_esperados = ['c', 'celsius', 'f', 'farenheit', 'k', 'kelvin']\n",
    "        lista_conversion = []\n",
    "\n",
    "        if str(origen.lower()) not in parametros_esperados or str(destino.lower()) not in parametros_esperados:\n",
    "            print('Los parámetros esperados son: ', *parametros_esperados, sep=' - ')\n",
    "            return lista_conversion\n",
    "        for num in self.lista:\n",
    "            lista_conversion.append(self.__conversion_temperatura(num, origen, destino))\n",
    "        return lista_conversion\n",
    "\n",
    "    def __verificar_primo(self, num: int) -> bool:\n",
    "        \"\"\"Función que verifica si un dado número es o no primo\n",
    "\n",
    "        Args:\n",
    "            num (int): número a ser verificado\n",
    "\n",
    "        Returns:\n",
    "            bool: True si es primo\n",
    "        \"\"\"        \n",
    "        res_es_primo = True\n",
    "        for divisor in range(2, int(num/2 + 1)):\n",
    "            if num % divisor == 0:\n",
    "                res_es_primo = False\n",
    "                break\n",
    "        return res_es_primo\n",
    "\n",
    "    def valor_modal(self, lis: list) -> tuple:\n",
    "        \"\"\"Función que recibe una lista y calcula la moda de la misma\n",
    "\n",
    "        Args:\n",
    "            lis (list): Lista de enteros\n",
    "\n",
    "        Returns:\n",
    "            tuple: Retorna una tupla de la forma (valor modal, veces que se repitió en la lista inicial)\n",
    "        \"\"\"        \n",
    "        numero_mas_repe = lis[0]\n",
    "        repe = lis.count(numero_mas_repe)\n",
    "        for elem in lis:\n",
    "            repe_aux = lis.count(elem)\n",
    "            if repe_aux >= repe:\n",
    "                if elem > numero_mas_repe:\n",
    "                    numero_mas_repe = elem\n",
    "        return (numero_mas_repe, repe)\n",
    "\n",
    "    def __conversion_temperatura(self, valor: float, origen: str, destino: str) -> float:\n",
    "        \"\"\"Función de conversión de temperatura entre °C, °F y K\n",
    "\n",
    "        Args:\n",
    "            valor (float): valor inicial a ser convertido\n",
    "            origen (str): unidad que se quiere convertir\n",
    "            destino (str): unidad a la cual se quiere llegar\n",
    "\n",
    "        Returns:\n",
    "            float: Valor de temperatura convertido al tipo \"destino\"\n",
    "        \"\"\"        \n",
    "        origen = origen.lower()\n",
    "        destino = destino.lower()\n",
    "        t_convertida = None\n",
    "        if origen == destino:\n",
    "            t_convertida = valor\n",
    "        elif origen in ['k', 'kelvin']:\n",
    "            if destino in ['c', 'celsius']:\n",
    "                t_convertida = valor - 273 # K -> C\n",
    "            else:\n",
    "                t_convertida = valor * 9/5 + (32 - 273 * 9/5) # K -> F\n",
    "        elif origen in ['c', 'celsius']:\n",
    "            if destino in ['k', 'kelvin']:\n",
    "                t_convertida = valor + 273 # C -> K\n",
    "            else:\n",
    "                t_convertida = 9/5 * valor + 32 # C -> K\n",
    "        elif origen in ['f', 'farenheit']:\n",
    "            if destino in ['c', 'celsius']:\n",
    "                t_convertida = 5/9 * (valor - 32) # F -> C\n",
    "            else:\n",
    "                t_convertida = 5/9 * (valor - (32 - 273 * 9/5))\n",
    "        return t_convertida\n",
    "    \n",
    "    def __factorial(self, n: int) -> int:\n",
    "        \"\"\"Factorial del valor n\n",
    "\n",
    "        Args:\n",
    "            n (int): valor del cual se quiere calcular el factorial\n",
    "\n",
    "        Returns:\n",
    "            int: factorial del valor n\n",
    "        \"\"\"        \n",
    "        if isinstance(n, int) and (n >= 1):\n",
    "            if n == 1:\n",
    "                return 1\n",
    "            else:\n",
    "                valor = n * self.__factorial(n - 1)\n",
    "            return valor\n",
    "        else:\n",
    "            print('Amigo flasheaste')"
   ]
  },
  {
   "cell_type": "code",
   "execution_count": 120,
   "metadata": {},
   "outputs": [],
   "source": [
    "lista = [1, 2, 3]\n",
    "h = Herramientas(lista)"
   ]
  },
  {
   "cell_type": "markdown",
   "metadata": {},
   "source": [
    "Si la lista tiene un tipo que no corresponde, recibo un error de tipo `TypeError`"
   ]
  },
  {
   "cell_type": "code",
   "execution_count": 76,
   "metadata": {},
   "outputs": [
    {
     "data": {
      "text/plain": [
       "[274, 275, 276]"
      ]
     },
     "execution_count": 76,
     "metadata": {},
     "output_type": "execute_result"
    }
   ],
   "source": [
    "h.conversion_temperatura('celsius', 'KElviN') \n"
   ]
  },
  {
   "cell_type": "code",
   "execution_count": 44,
   "metadata": {},
   "outputs": [],
   "source": [
    "# 2 - Ya lo implementé más arriba"
   ]
  },
  {
   "cell_type": "code",
   "execution_count": 77,
   "metadata": {},
   "outputs": [],
   "source": [
    "# 3\n",
    "\n",
    "import unittest"
   ]
  },
  {
   "cell_type": "code",
   "execution_count": 99,
   "metadata": {},
   "outputs": [],
   "source": [
    "class ProbandoMiClase(unittest.TestCase):\n",
    "    # Acá adentro tengo que definir las pruebas como casos de prueba\n",
    "\n",
    "    def test_crear_objeto_incorrecto(self):\n",
    "        parametro_a_probar = 'holis'\n",
    "\n",
    "        # Este assert lo que hace es prueba de cargar la clase Herramientas asignándole los parámetros en cuestión\n",
    "        self.assertRaises(ValueError, Herramientas, parametro_a_probar)\n",
    "\n",
    "    def test_crear_objeto_correcto(self):\n",
    "        parametro_a_probar = [1, 2, 3, 4, 5]\n",
    "        h1 = Herramientas(parametro_a_probar)\n",
    "\n",
    "        # Este assert lo que hace es probar que h1.lista sea igual que el parametro a probar\n",
    "        self.assertEqual(h1.lista, parametro_a_probar)\n",
    "\n",
    "    def test_valor_modal(self):\n",
    "        lista = [3, 2, 1, 3, 1, 1, 3]\n",
    "\n",
    "        h1 = Herramientas(lista)\n",
    "        moda, veces = h1.valor_modal(lista)\n",
    "        moda = [moda]\n",
    "        moda.append(veces)\n",
    "        resultado = [3, 3]\n",
    "\n",
    "        self.assertEqual(moda, resultado)"
   ]
  },
  {
   "cell_type": "code",
   "execution_count": 100,
   "metadata": {},
   "outputs": [
    {
     "name": "stderr",
     "output_type": "stream",
     "text": [
      "test_crear_objeto_correcto (__main__.ProbandoMiClase.test_crear_objeto_correcto) ... ok\n",
      "test_crear_objeto_incorrecto (__main__.ProbandoMiClase.test_crear_objeto_incorrecto) ... ok\n",
      "test_valor_modal (__main__.ProbandoMiClase.test_valor_modal) ... ok\n",
      "test_verifica_primos (__main__.ProbandoMiClase2.test_verifica_primos) ... ok\n",
      "\n",
      "----------------------------------------------------------------------\n",
      "Ran 4 tests in 0.003s\n",
      "\n",
      "OK\n"
     ]
    },
    {
     "name": "stdout",
     "output_type": "stream",
     "text": [
      "El número 1 es primo\n",
      "El número 3 es primo\n",
      "El número 5 es primo\n",
      "El número 7 es primo\n",
      "El número 9 no es primo\n"
     ]
    },
    {
     "data": {
      "text/plain": [
       "<unittest.main.TestProgram at 0x28d6a7b56d0>"
      ]
     },
     "execution_count": 100,
     "metadata": {},
     "output_type": "execute_result"
    }
   ],
   "source": [
    "unittest.main(argv=[''], verbosity=2, exit=False)"
   ]
  },
  {
   "cell_type": "code",
   "execution_count": 107,
   "metadata": {},
   "outputs": [],
   "source": [
    "# 5\n",
    "class ProbandoMiClase2(unittest.TestCase):\n",
    "    def test_verifica_primos(self):\n",
    "        lis = [1, 3, 5, 7, 9]\n",
    "\n",
    "        h1 = Herramientas(lis)\n",
    "        primos = h1.verificar_primo()\n",
    "        resultado = [True, True, True, True, False]\n",
    "\n",
    "        self.assertEqual(primos, resultado)"
   ]
  },
  {
   "cell_type": "code",
   "execution_count": 108,
   "metadata": {},
   "outputs": [
    {
     "name": "stderr",
     "output_type": "stream",
     "text": [
      "test_crear_objeto_correcto (__main__.ProbandoMiClase.test_crear_objeto_correcto) ... ok\n",
      "test_crear_objeto_incorrecto (__main__.ProbandoMiClase.test_crear_objeto_incorrecto) ... ok\n",
      "test_valor_modal (__main__.ProbandoMiClase.test_valor_modal) ... ok\n",
      "test_verifica_primos (__main__.ProbandoMiClase2.test_verifica_primos) ... ok\n",
      "\n",
      "----------------------------------------------------------------------\n",
      "Ran 4 tests in 0.003s\n",
      "\n",
      "OK\n"
     ]
    },
    {
     "name": "stdout",
     "output_type": "stream",
     "text": [
      "El número 1 es primo\n",
      "El número 3 es primo\n",
      "El número 5 es primo\n",
      "El número 7 es primo\n",
      "El número 9 no es primo\n"
     ]
    },
    {
     "data": {
      "text/plain": [
       "<unittest.main.TestProgram at 0x28d6a6b7fd0>"
      ]
     },
     "execution_count": 108,
     "metadata": {},
     "output_type": "execute_result"
    }
   ],
   "source": [
    "unittest.main(argv=[''], verbosity=2, exit=False)"
   ]
  },
  {
   "cell_type": "code",
   "execution_count": 117,
   "metadata": {},
   "outputs": [],
   "source": [
    "# 6\n",
    "class ProbandoMiClase3(unittest.TestCase):\n",
    "    def test_verifica_conversion_temperatura(self):\n",
    "        \n",
    "        # Primero desarrollo cómo sería hacerlo \"normal\"\n",
    "        lista = [0, 10, 100]\n",
    "        h1 = Herramientas(lista)\n",
    "        \n",
    "        # Acá vemos QUÉ DA EL USO DE LA FUNCIÓN EN SÍ\n",
    "        resultados = h1.conversion_temperatura('celsius', 'k')\n",
    "        \n",
    "        # Luego escribo QUÉ DEBERÍA DAR\n",
    "        resultados_esperados = [273, 283, 373]\n",
    "\n",
    "        # Finalmente tiramos un assert de EQUAL\n",
    "        self.assertEqual(resultados, resultados_esperados)\n",
    "\n",
    "\n"
   ]
  },
  {
   "cell_type": "code",
   "execution_count": 114,
   "metadata": {},
   "outputs": [
    {
     "name": "stderr",
     "output_type": "stream",
     "text": [
      "test_crear_objeto_correcto (__main__.ProbandoMiClase.test_crear_objeto_correcto) ... ok\n",
      "test_crear_objeto_incorrecto (__main__.ProbandoMiClase.test_crear_objeto_incorrecto) ... ok\n",
      "test_valor_modal (__main__.ProbandoMiClase.test_valor_modal) ... ok\n",
      "test_verifica_primos (__main__.ProbandoMiClase2.test_verifica_primos) ... ok\n",
      "test_verifica_conversion_temperatura (__main__.ProbandoMiClase3.test_verifica_conversion_temperatura) ... FAIL\n",
      "\n",
      "======================================================================\n",
      "FAIL: test_verifica_conversion_temperatura (__main__.ProbandoMiClase3.test_verifica_conversion_temperatura)\n",
      "----------------------------------------------------------------------\n",
      "Traceback (most recent call last):\n",
      "  File \"C:\\Users\\gusta\\AppData\\Local\\Temp\\ipykernel_7104\\1423236633.py\", line 16, in test_verifica_conversion_temperatura\n",
      "    self.assertEqual(resultados, resultados_esperados)\n",
      "AssertionError: Lists differ: [273, 283, 373] != [273, 283, 374]\n",
      "\n",
      "First differing element 2:\n",
      "373\n",
      "374\n",
      "\n",
      "- [273, 283, 373]\n",
      "?              ^\n",
      "\n",
      "+ [273, 283, 374]\n",
      "?              ^\n",
      "\n",
      "\n",
      "----------------------------------------------------------------------\n",
      "Ran 5 tests in 0.006s\n",
      "\n",
      "FAILED (failures=1)\n"
     ]
    },
    {
     "name": "stdout",
     "output_type": "stream",
     "text": [
      "El número 1 es primo\n",
      "El número 3 es primo\n",
      "El número 5 es primo\n",
      "El número 7 es primo\n",
      "El número 9 no es primo\n"
     ]
    },
    {
     "data": {
      "text/plain": [
       "<unittest.main.TestProgram at 0x28d6a77add0>"
      ]
     },
     "execution_count": 114,
     "metadata": {},
     "output_type": "execute_result"
    }
   ],
   "source": [
    "unittest.main(argv=[''], verbosity=4, exit=False)"
   ]
  },
  {
   "cell_type": "code",
   "execution_count": 115,
   "metadata": {},
   "outputs": [],
   "source": [
    "# 7\n",
    "class MiClaseDePrueba(unittest.TestCase):\n",
    "    def test_factorial(self):\n",
    "        lista = [1, 2, 3]\n",
    "        h1 = Herramientas(lista)\n",
    "        resultados = h1.factorial()\n",
    "\n",
    "        resultados_esperados = [1, 2, 6]\n",
    "\n",
    "        self.assertEqual(resultados, resultados_esperados)"
   ]
  },
  {
   "cell_type": "code",
   "execution_count": 121,
   "metadata": {},
   "outputs": [
    {
     "name": "stderr",
     "output_type": "stream",
     "text": [
      "test_factorial (__main__.MiClaseDePrueba.test_factorial) ... ok\n",
      "test_crear_objeto_correcto (__main__.ProbandoMiClase.test_crear_objeto_correcto) ... ok\n",
      "test_crear_objeto_incorrecto (__main__.ProbandoMiClase.test_crear_objeto_incorrecto) ... ok\n",
      "test_valor_modal (__main__.ProbandoMiClase.test_valor_modal) ... ok\n",
      "test_verifica_primos (__main__.ProbandoMiClase2.test_verifica_primos) ... ok\n",
      "test_verifica_conversion_temperatura (__main__.ProbandoMiClase3.test_verifica_conversion_temperatura) ... ok\n",
      "\n",
      "----------------------------------------------------------------------\n",
      "Ran 6 tests in 0.004s\n",
      "\n",
      "OK\n"
     ]
    },
    {
     "name": "stdout",
     "output_type": "stream",
     "text": [
      "El factorial de 1 es 1\n",
      "El factorial de 2 es 2\n",
      "El factorial de 3 es 6\n",
      "El número 1 es primo\n",
      "El número 3 es primo\n",
      "El número 5 es primo\n",
      "El número 7 es primo\n",
      "El número 9 no es primo\n"
     ]
    },
    {
     "data": {
      "text/plain": [
       "<unittest.main.TestProgram at 0x28d6a74c750>"
      ]
     },
     "execution_count": 121,
     "metadata": {},
     "output_type": "execute_result"
    }
   ],
   "source": [
    "unittest.main(argv=[''], verbosity=2, exit=False)"
   ]
  },
  {
   "cell_type": "code",
   "execution_count": null,
   "metadata": {},
   "outputs": [],
   "source": [
    "# 8"
   ]
  }
 ],
 "metadata": {
  "kernelspec": {
   "display_name": "Python 3",
   "language": "python",
   "name": "python3"
  },
  "language_info": {
   "codemirror_mode": {
    "name": "ipython",
    "version": 3
   },
   "file_extension": ".py",
   "mimetype": "text/x-python",
   "name": "python",
   "nbconvert_exporter": "python",
   "pygments_lexer": "ipython3",
   "version": "3.11.1"
  },
  "orig_nbformat": 4,
  "vscode": {
   "interpreter": {
    "hash": "5238573367df39f7286bb46f9ff5f08f63a01a80960060ce41e3c79b190280fa"
   }
  }
 },
 "nbformat": 4,
 "nbformat_minor": 2
}
