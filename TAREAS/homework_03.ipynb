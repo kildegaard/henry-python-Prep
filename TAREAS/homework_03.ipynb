{
 "cells": [
  {
   "cell_type": "code",
   "execution_count": 1,
   "metadata": {},
   "outputs": [
    {
     "name": "stdout",
     "output_type": "stream",
     "text": [
      "La variable es mayor o igual a cero\n"
     ]
    }
   ],
   "source": [
    "# 1\n",
    "var1 = 7\n",
    "if var1 >= 0:\n",
    "    print('La variable es mayor o igual a cero')\n",
    "else:\n",
    "    print('La variable es menor que cero')"
   ]
  },
  {
   "cell_type": "code",
   "execution_count": 1,
   "metadata": {},
   "outputs": [],
   "source": [
    "# 2\n",
    "var2 = 24.5\n",
    "var3 = 'Veinticuatro coma tres'\n"
   ]
  },
  {
   "cell_type": "code",
   "execution_count": 8,
   "metadata": {},
   "outputs": [
    {
     "name": "stdout",
     "output_type": "stream",
     "text": [
      "1 es impar\n",
      "2 es par\n",
      "3 es impar\n",
      "4 es par\n",
      "5 es impar\n",
      "6 es par\n",
      "7 es impar\n",
      "8 es par\n",
      "9 es impar\n",
      "10 es par\n",
      "11 es impar\n",
      "12 es par\n",
      "13 es impar\n",
      "14 es par\n",
      "15 es impar\n",
      "16 es par\n",
      "17 es impar\n",
      "18 es par\n",
      "19 es impar\n",
      "20 es par\n"
     ]
    }
   ],
   "source": [
    "# 3\n",
    "for i in range(20):\n",
    "    if (i+1) % 2 == 0:\n",
    "        print(f'{i+1} es par')\n",
    "    else:\n",
    "        print(f'{i+1} es impar')"
   ]
  },
  {
   "cell_type": "code",
   "execution_count": 10,
   "metadata": {},
   "outputs": [
    {
     "name": "stdout",
     "output_type": "stream",
     "text": [
      "0\n",
      "1\n",
      "8\n",
      "27\n",
      "64\n",
      "125\n"
     ]
    }
   ],
   "source": [
    "# 4\n",
    "for i in range(6):\n",
    "    print(i ** 3)"
   ]
  },
  {
   "cell_type": "code",
   "execution_count": 11,
   "metadata": {},
   "outputs": [
    {
     "name": "stdout",
     "output_type": "stream",
     "text": [
      "0\n",
      "1\n",
      "2\n",
      "3\n",
      "4\n"
     ]
    }
   ],
   "source": [
    "# 5\n",
    "var4 = 5\n",
    "for i in range(var4):\n",
    "    print(i)"
   ]
  },
  {
   "cell_type": "code",
   "execution_count": 16,
   "metadata": {},
   "outputs": [
    {
     "name": "stdout",
     "output_type": "stream",
     "text": [
      "720\n"
     ]
    }
   ],
   "source": [
    "# 6\n",
    "\n",
    "var6 = 6\n",
    "\n",
    "if var6 > 0:\n",
    "    fact = var6\n",
    "    while var6 > 2:\n",
    "        var6 -= 1\n",
    "        fact *= var6\n",
    "    print(fact)"
   ]
  },
  {
   "cell_type": "code",
   "execution_count": 2,
   "metadata": {},
   "outputs": [
    {
     "name": "stdout",
     "output_type": "stream",
     "text": [
      "720\n"
     ]
    }
   ],
   "source": [
    "# 6 Factorial con recursión\n",
    "\n",
    "def fact(num):\n",
    "    if num <= 1:\n",
    "        return 1\n",
    "    else:\n",
    "        return num * fact(num - 1)\n",
    "\n",
    "var6 = 6\n",
    "\n",
    "print(fact(var6))\n"
   ]
  },
  {
   "cell_type": "code",
   "execution_count": 19,
   "metadata": {},
   "outputs": [
    {
     "name": "stdout",
     "output_type": "stream",
     "text": [
      "\n",
      "*\n",
      "**\n",
      "***\n",
      "****\n",
      "****\n",
      "***\n",
      "**\n",
      "*\n",
      "\n",
      "\n",
      "*\n",
      "**\n",
      "***\n",
      "***\n",
      "**\n",
      "*\n",
      "\n",
      "\n",
      "*\n",
      "**\n",
      "**\n",
      "*\n",
      "\n",
      "\n",
      "*\n",
      "*\n",
      "\n",
      "\n",
      "\n"
     ]
    }
   ],
   "source": [
    "# 7\n",
    "n = 5\n",
    "while n > 0:\n",
    "    for i in range(n):\n",
    "        print('*' * i)\n",
    "    for i in reversed(range(n)):\n",
    "        print('*' * i)\n",
    "    n -= 1"
   ]
  },
  {
   "cell_type": "code",
   "execution_count": 23,
   "metadata": {},
   "outputs": [
    {
     "name": "stdout",
     "output_type": "stream",
     "text": [
      "6\n",
      "5\n",
      "4\n",
      "3\n",
      "2\n",
      "1\n"
     ]
    }
   ],
   "source": [
    "# 8\n",
    "n = 6\n",
    "for i in range (0, n):\n",
    "    while n >= 1:\n",
    "        print(n)\n",
    "        n -= 1"
   ]
  },
  {
   "cell_type": "code",
   "execution_count": 16,
   "metadata": {},
   "outputs": [
    {
     "name": "stdout",
     "output_type": "stream",
     "text": [
      "El número 29 es primo\n",
      "El número 23 es primo\n",
      "El número 19 es primo\n",
      "El número 17 es primo\n",
      "El número 13 es primo\n",
      "El número 11 es primo\n",
      "El número 7 es primo\n",
      "El número 5 es primo\n",
      "El número 3 es primo\n",
      "El número 2 es primo\n",
      "El número 1 es primo\n",
      "Cantidad de iteraciones: 543\n"
     ]
    }
   ],
   "source": [
    "# 9\n",
    "PRIME_FROM = 0\n",
    "PRIME_TO = 30\n",
    "contador_vueltas = 0\n",
    "\n",
    "for num in reversed(range(PRIME_FROM, PRIME_TO + 1)):\n",
    "    if (num > 0):\n",
    "        es_primo = True\n",
    "        for iteracion in range(PRIME_TO - 2):\n",
    "            contador_vueltas += 1\n",
    "            divisor = num - 1\n",
    "            while (divisor > 1):\n",
    "                if (num % divisor) == 0:\n",
    "                    es_primo = False\n",
    "                    break\n",
    "                else:\n",
    "                    divisor -= 1\n",
    "            if (es_primo):\n",
    "                print(f'El número {num} es primo')\n",
    "                break\n",
    "print(f'Cantidad de iteraciones: {contador_vueltas}')"
   ]
  },
  {
   "cell_type": "code",
   "execution_count": 10,
   "metadata": {},
   "outputs": [],
   "source": [
    "# 10\n",
    "# Ya lo hice!"
   ]
  },
  {
   "cell_type": "code",
   "execution_count": 11,
   "metadata": {},
   "outputs": [],
   "source": [
    "# 11\n",
    "# Se puede tratar de calcular cuánto tiempo tarda en correr el algoritmo, y detectar \n",
    "# si tenemos un programa tipo O(n) o O(n^2)"
   ]
  },
  {
   "cell_type": "code",
   "execution_count": 17,
   "metadata": {},
   "outputs": [],
   "source": [
    "# 12\n",
    "# La optimización cada vez es menor en proporción"
   ]
  },
  {
   "cell_type": "code",
   "execution_count": 21,
   "metadata": {},
   "outputs": [
    {
     "name": "stdout",
     "output_type": "stream",
     "text": [
      "108 es divisible por 12\n",
      "120 es divisible por 12\n",
      "132 es divisible por 12\n",
      "144 es divisible por 12\n",
      "156 es divisible por 12\n",
      "168 es divisible por 12\n",
      "180 es divisible por 12\n",
      "192 es divisible por 12\n",
      "204 es divisible por 12\n",
      "216 es divisible por 12\n",
      "228 es divisible por 12\n",
      "240 es divisible por 12\n",
      "252 es divisible por 12\n",
      "264 es divisible por 12\n",
      "276 es divisible por 12\n",
      "288 es divisible por 12\n",
      "300 es divisible por 12\n"
     ]
    }
   ],
   "source": [
    "# 13\n",
    "\n",
    "n_start = 100\n",
    "n_end = 300\n",
    "\n",
    "n = n_start - 1\n",
    "while (n <= n_end):\n",
    "    n += 1\n",
    "    if (n % 12 == 0):\n",
    "        print(f'{n} es divisible por 12')\n",
    "    else:\n",
    "        continue"
   ]
  },
  {
   "cell_type": "code",
   "execution_count": 59,
   "metadata": {},
   "outputs": [
    {
     "name": "stdout",
     "output_type": "stream",
     "text": [
      "El siguiente primo es el número 9041\n"
     ]
    }
   ],
   "source": [
    "# 14\n",
    "def num_es_primo(num):\n",
    "    res_es_primo = True\n",
    "    for divisor in range(2, int(num/2 + 1)):\n",
    "        if num % divisor == 0:\n",
    "            res_es_primo = False\n",
    "            break\n",
    "    return res_es_primo\n",
    "\n",
    "num = int(input('Ingrese un número, se encontrará el primo inmediato superior: '))\n",
    "\n",
    "es_primo = False\n",
    "num_a_testear = num + 1\n",
    "while (not es_primo):\n",
    "    if num_es_primo(num_a_testear):\n",
    "       print(f'El siguiente primo es el número {num_a_testear}')\n",
    "       break\n",
    "    else:\n",
    "        num_a_testear += 1"
   ]
  },
  {
   "cell_type": "code",
   "execution_count": 63,
   "metadata": {},
   "outputs": [
    {
     "name": "stdout",
     "output_type": "stream",
     "text": [
      "102\n"
     ]
    }
   ],
   "source": [
    "# 15\n",
    "\n",
    "n_start = 100\n",
    "n_end = 300\n",
    "\n",
    "n = n_start\n",
    "while(n <= n_end):\n",
    "    if (n % 3 == 0 and n % 6 == 0):\n",
    "        print(n)\n",
    "        break\n",
    "    n += 1"
   ]
  }
 ],
 "metadata": {
  "kernelspec": {
   "display_name": "Python 3",
   "language": "python",
   "name": "python3"
  },
  "language_info": {
   "codemirror_mode": {
    "name": "ipython",
    "version": 3
   },
   "file_extension": ".py",
   "mimetype": "text/x-python",
   "name": "python",
   "nbconvert_exporter": "python",
   "pygments_lexer": "ipython3",
   "version": "3.11.1 (tags/v3.11.1:a7a450f, Dec  6 2022, 19:58:39) [MSC v.1934 64 bit (AMD64)]"
  },
  "orig_nbformat": 4,
  "vscode": {
   "interpreter": {
    "hash": "5238573367df39f7286bb46f9ff5f08f63a01a80960060ce41e3c79b190280fa"
   }
  }
 },
 "nbformat": 4,
 "nbformat_minor": 2
}
