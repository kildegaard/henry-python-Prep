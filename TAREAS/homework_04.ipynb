{
 "cells": [
  {
   "cell_type": "code",
   "execution_count": 1,
   "metadata": {},
   "outputs": [
    {
     "name": "stdout",
     "output_type": "stream",
     "text": [
      "Buenos Aires\n",
      "Madrid\n",
      "New York\n",
      "Los Angeles\n",
      "Brazilia\n"
     ]
    }
   ],
   "source": [
    "# 1\n",
    "ciudades = ['Buenos Aires', 'Madrid', 'New York', 'Los Angeles', 'Brazilia']\n",
    "for ciudad in ciudades:\n",
    "    print(ciudad)"
   ]
  },
  {
   "cell_type": "code",
   "execution_count": 2,
   "metadata": {},
   "outputs": [
    {
     "name": "stdout",
     "output_type": "stream",
     "text": [
      "Madrid\n"
     ]
    }
   ],
   "source": [
    "# 2\n",
    "print(ciudades[1])"
   ]
  },
  {
   "cell_type": "code",
   "execution_count": 3,
   "metadata": {},
   "outputs": [
    {
     "name": "stdout",
     "output_type": "stream",
     "text": [
      "['Madrid', 'New York', 'Los Angeles']\n"
     ]
    }
   ],
   "source": [
    "# 3\n",
    "print(ciudades[1:4])"
   ]
  },
  {
   "cell_type": "code",
   "execution_count": 4,
   "metadata": {},
   "outputs": [
    {
     "name": "stdout",
     "output_type": "stream",
     "text": [
      "<class 'list'> <class 'str'>\n"
     ]
    }
   ],
   "source": [
    "# 4\n",
    "print(type(ciudades), type(ciudades[1]))"
   ]
  },
  {
   "cell_type": "code",
   "execution_count": 5,
   "metadata": {},
   "outputs": [
    {
     "name": "stdout",
     "output_type": "stream",
     "text": [
      "['New York', 'Los Angeles', 'Brazilia']\n"
     ]
    }
   ],
   "source": [
    "# 5\n",
    "print(ciudades[2:])"
   ]
  },
  {
   "cell_type": "code",
   "execution_count": 6,
   "metadata": {},
   "outputs": [
    {
     "name": "stdout",
     "output_type": "stream",
     "text": [
      "['Buenos Aires', 'Madrid', 'New York', 'Los Angeles']\n"
     ]
    }
   ],
   "source": [
    "# 6\n",
    "print(ciudades[:4])"
   ]
  },
  {
   "cell_type": "code",
   "execution_count": 7,
   "metadata": {},
   "outputs": [],
   "source": [
    "# 7\n",
    "ciudades.append('Madrid')\n",
    "ciudades.append('Beijing')"
   ]
  },
  {
   "cell_type": "code",
   "execution_count": 8,
   "metadata": {},
   "outputs": [
    {
     "data": {
      "text/plain": [
       "['Buenos Aires',\n",
       " 'Madrid',\n",
       " 'New York',\n",
       " 'Bogotá',\n",
       " 'Los Angeles',\n",
       " 'Brazilia',\n",
       " 'Madrid',\n",
       " 'Beijing']"
      ]
     },
     "execution_count": 8,
     "metadata": {},
     "output_type": "execute_result"
    }
   ],
   "source": [
    "# 8\n",
    "ciudades.insert(3, 'Bogotá')\n",
    "ciudades"
   ]
  },
  {
   "cell_type": "code",
   "execution_count": 9,
   "metadata": {},
   "outputs": [
    {
     "data": {
      "text/plain": [
       "['Buenos Aires',\n",
       " 'Madrid',\n",
       " 'New York',\n",
       " 'Bogotá',\n",
       " 'Los Angeles',\n",
       " 'Brazilia',\n",
       " 'Madrid',\n",
       " 'Beijing',\n",
       " 'Mar del Plata',\n",
       " 'San Clemente',\n",
       " 'Valeria del Mar',\n",
       " 'Cariló']"
      ]
     },
     "execution_count": 9,
     "metadata": {},
     "output_type": "execute_result"
    }
   ],
   "source": [
    "# 9\n",
    "lista_costa = ['Mar del Plata', 'San Clemente', 'Valeria del Mar', 'Cariló']\n",
    "\n",
    "ciudades_copia = ciudades.copy()\n",
    "\n",
    "ciudades_copia.extend(lista_costa)\n",
    "ciudades_copia"
   ]
  },
  {
   "cell_type": "code",
   "execution_count": 10,
   "metadata": {},
   "outputs": [
    {
     "data": {
      "text/plain": [
       "\"Solución posible:\\n\\nlista_indices = []\\nciudad = 'Madrid'\\nfor index, city in enumerate(ciudades_copia):\\n    if city == ciudad:\\n        lista_indices.append(index)\\nprint(lista_indices)\\n\""
      ]
     },
     "execution_count": 10,
     "metadata": {},
     "output_type": "execute_result"
    }
   ],
   "source": [
    "# 10\n",
    "ciudades_copia.index('Madrid')\n",
    "\n",
    "'''Solución posible:\n",
    "\n",
    "lista_indices = []\n",
    "ciudad = 'Madrid'\n",
    "for index, city in enumerate(ciudades_copia):\n",
    "    if city == ciudad:\n",
    "        lista_indices.append(index)\n",
    "print(lista_indices)\n",
    "'''"
   ]
  },
  {
   "cell_type": "code",
   "execution_count": 11,
   "metadata": {},
   "outputs": [
    {
     "name": "stdout",
     "output_type": "stream",
     "text": [
      "Hubo un error: 'Córdoba' is not in list\n"
     ]
    }
   ],
   "source": [
    "# 11\n",
    "try:\n",
    "    ciudades.index('Córdoba')\n",
    "except Exception as e:\n",
    "    print(f'Hubo un error: {e}')"
   ]
  },
  {
   "cell_type": "code",
   "execution_count": 12,
   "metadata": {},
   "outputs": [
    {
     "name": "stdout",
     "output_type": "stream",
     "text": [
      "Los Angeles\n",
      "['Buenos Aires', 'Madrid', 'New York', 'Bogotá', 'Brazilia', 'Madrid', 'Beijing', 'Mar del Plata', 'San Clemente', 'Valeria del Mar', 'Cariló']\n",
      "['Buenos Aires', 'Madrid', 'New York', 'Brazilia', 'Madrid', 'Beijing', 'Mar del Plata', 'San Clemente', 'Valeria del Mar', 'Cariló']\n"
     ]
    }
   ],
   "source": [
    "# 12\n",
    "ciudades_copia2 = ciudades_copia.copy()\n",
    "\n",
    "print(ciudades_copia2.pop(4)) # Borra el elemento en esa ubicación\n",
    "\n",
    "print(ciudades_copia2)\n",
    "ciudades_copia2.remove('Bogotá') # Borro según contenido\n",
    "print(ciudades_copia2)\n"
   ]
  },
  {
   "cell_type": "code",
   "execution_count": 13,
   "metadata": {},
   "outputs": [],
   "source": [
    "# 13\n",
    "# Salta un ValueError"
   ]
  },
  {
   "cell_type": "code",
   "execution_count": 14,
   "metadata": {},
   "outputs": [
    {
     "name": "stdout",
     "output_type": "stream",
     "text": [
      "Último elemento de la lista: Cariló\n"
     ]
    }
   ],
   "source": [
    "# 14\n",
    "ultimo_elemento = ciudades_copia2.pop()\n",
    "print(f'Último elemento de la lista: {ultimo_elemento}')"
   ]
  },
  {
   "cell_type": "code",
   "execution_count": 15,
   "metadata": {},
   "outputs": [
    {
     "data": {
      "text/plain": [
       "['Buenos Aires',\n",
       " 'Madrid',\n",
       " 'New York',\n",
       " 'Bogotá',\n",
       " 'Los Angeles',\n",
       " 'Brazilia',\n",
       " 'Madrid',\n",
       " 'Beijing',\n",
       " 'Buenos Aires',\n",
       " 'Madrid',\n",
       " 'New York',\n",
       " 'Bogotá',\n",
       " 'Los Angeles',\n",
       " 'Brazilia',\n",
       " 'Madrid',\n",
       " 'Beijing',\n",
       " 'Buenos Aires',\n",
       " 'Madrid',\n",
       " 'New York',\n",
       " 'Bogotá',\n",
       " 'Los Angeles',\n",
       " 'Brazilia',\n",
       " 'Madrid',\n",
       " 'Beijing',\n",
       " 'Buenos Aires',\n",
       " 'Madrid',\n",
       " 'New York',\n",
       " 'Bogotá',\n",
       " 'Los Angeles',\n",
       " 'Brazilia',\n",
       " 'Madrid',\n",
       " 'Beijing']"
      ]
     },
     "execution_count": 15,
     "metadata": {},
     "output_type": "execute_result"
    }
   ],
   "source": [
    "# 15\n",
    "ciudades * 4"
   ]
  },
  {
   "cell_type": "code",
   "execution_count": 16,
   "metadata": {},
   "outputs": [
    {
     "data": {
      "text/plain": [
       "(1, 2, 3, 4, 5, 6, 7, 8, 9, 10, 11, 12, 13, 14, 15, 16, 17, 18, 19, 20)"
      ]
     },
     "execution_count": 16,
     "metadata": {},
     "output_type": "execute_result"
    }
   ],
   "source": [
    "# 16\n",
    "numeros = tuple([x for x in range(1, 21)])\n",
    "numeros"
   ]
  },
  {
   "cell_type": "code",
   "execution_count": 17,
   "metadata": {},
   "outputs": [],
   "source": [
    "# 16 bis. otra versión\n",
    "numeritos = (x for x in range(10))"
   ]
  },
  {
   "cell_type": "code",
   "execution_count": 18,
   "metadata": {},
   "outputs": [
    {
     "data": {
      "text/plain": [
       "0"
      ]
     },
     "execution_count": 18,
     "metadata": {},
     "output_type": "execute_result"
    }
   ],
   "source": [
    "next(numeritos)"
   ]
  },
  {
   "cell_type": "code",
   "execution_count": 19,
   "metadata": {},
   "outputs": [
    {
     "name": "stdout",
     "output_type": "stream",
     "text": [
      "(11, 12, 13, 14, 15)\n"
     ]
    }
   ],
   "source": [
    "# 17\n",
    "print(numeros[10: 15])"
   ]
  },
  {
   "cell_type": "code",
   "execution_count": 27,
   "metadata": {},
   "outputs": [
    {
     "data": {
      "text/plain": [
       "False"
      ]
     },
     "execution_count": 27,
     "metadata": {},
     "output_type": "execute_result"
    }
   ],
   "source": [
    "# 18\n",
    "20 and 30 in numeros"
   ]
  },
  {
   "cell_type": "code",
   "execution_count": 31,
   "metadata": {},
   "outputs": [
    {
     "name": "stdout",
     "output_type": "stream",
     "text": [
      "['Buenos Aires', 'Madrid', 'New York', 'Bogotá', 'Los Angeles', 'Brazilia', 'Madrid', 'Beijing', 'París']\n"
     ]
    }
   ],
   "source": [
    "# 19\n",
    "pais = 'París'\n",
    "if pais not in ciudades:\n",
    "    ciudades.append(pais)\n",
    "print(ciudades)"
   ]
  },
  {
   "cell_type": "code",
   "execution_count": 32,
   "metadata": {},
   "outputs": [],
   "source": [
    "# 20\n",
    "def contar_valor(valor, lista_busqueda):\n",
    "    contador = 0\n",
    "    for elem in lista_busqueda:\n",
    "        if elem == valor:\n",
    "            contador += 1\n",
    "    return contador"
   ]
  },
  {
   "cell_type": "code",
   "execution_count": 33,
   "metadata": {},
   "outputs": [
    {
     "data": {
      "text/plain": [
       "2"
      ]
     },
     "execution_count": 33,
     "metadata": {},
     "output_type": "execute_result"
    }
   ],
   "source": [
    "# 20\n",
    "contar_valor('Madrid', ciudades)"
   ]
  },
  {
   "cell_type": "code",
   "execution_count": 36,
   "metadata": {},
   "outputs": [
    {
     "data": {
      "text/plain": [
       "['Buenos Aires',\n",
       " 'Madrid',\n",
       " 'New York',\n",
       " 'Bogotá',\n",
       " 'Los Angeles',\n",
       " 'Brazilia',\n",
       " 'Madrid',\n",
       " 'Beijing',\n",
       " 'París']"
      ]
     },
     "execution_count": 36,
     "metadata": {},
     "output_type": "execute_result"
    }
   ],
   "source": [
    "# 21\n",
    "ciudades_lista = list(ciudades)\n",
    "ciudades_lista"
   ]
  },
  {
   "cell_type": "code",
   "execution_count": 37,
   "metadata": {},
   "outputs": [],
   "source": [
    "# 22\n",
    "ciudad_1, ciudad_2, ciudad_3, *otras_ciudades = ciudades_lista"
   ]
  },
  {
   "cell_type": "code",
   "execution_count": 39,
   "metadata": {},
   "outputs": [
    {
     "name": "stdout",
     "output_type": "stream",
     "text": [
      "Buenos Aires - Madrid - New York - ['Bogotá', 'Los Angeles', 'Brazilia', 'Madrid', 'Beijing', 'París']\n"
     ]
    }
   ],
   "source": [
    "print(ciudad_1, ciudad_2, ciudad_3, otras_ciudades, sep=' - ')"
   ]
  },
  {
   "cell_type": "code",
   "execution_count": 53,
   "metadata": {},
   "outputs": [],
   "source": [
    "# 23\n",
    "pais = ['Argentina', 'España', 'EEUU', 'Colombia', 'EEUU', 'Brasil', 'España', 'China', 'Francia']\n",
    "continente = ['América', 'Europa', 'América', 'América', 'América', 'América', 'Europa', 'Asia', 'Europa']\n",
    "\n",
    "diccio = {\n",
    "    'ciudad': ciudades,\n",
    "    'pais': pais,\n",
    "    'continente': continente\n",
    "}"
   ]
  },
  {
   "cell_type": "code",
   "execution_count": 56,
   "metadata": {},
   "outputs": [
    {
     "name": "stdout",
     "output_type": "stream",
     "text": [
      "dict_keys(['ciudad', 'pais', 'continente'])\n",
      "['Buenos Aires', 'Madrid', 'New York', 'Bogotá', 'Los Angeles', 'Brazilia', 'Madrid', 'Beijing', 'París']\n"
     ]
    }
   ],
   "source": [
    "# 24\n",
    "print(diccio.keys())\n",
    "print(diccio['ciudad'])"
   ]
  }
 ],
 "metadata": {
  "kernelspec": {
   "display_name": "Python 3",
   "language": "python",
   "name": "python3"
  },
  "language_info": {
   "codemirror_mode": {
    "name": "ipython",
    "version": 3
   },
   "file_extension": ".py",
   "mimetype": "text/x-python",
   "name": "python",
   "nbconvert_exporter": "python",
   "pygments_lexer": "ipython3",
   "version": "3.11.1"
  },
  "orig_nbformat": 4,
  "vscode": {
   "interpreter": {
    "hash": "5238573367df39f7286bb46f9ff5f08f63a01a80960060ce41e3c79b190280fa"
   }
  }
 },
 "nbformat": 4,
 "nbformat_minor": 2
}
