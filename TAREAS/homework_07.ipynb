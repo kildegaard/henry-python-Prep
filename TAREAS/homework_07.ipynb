{
 "cells": [
  {
   "cell_type": "code",
   "execution_count": 1,
   "metadata": {},
   "outputs": [],
   "source": [
    "# 1\n",
    "class Vehiculo:\n",
    "    def __init__(self, color, tipoVehiculo, cilindrada):\n",
    "        self.color = color\n",
    "        self.tipoVehiculo = tipoVehiculo\n",
    "        self.cilindrada = cilindrada"
   ]
  },
  {
   "cell_type": "code",
   "execution_count": 2,
   "metadata": {},
   "outputs": [],
   "source": [
    "# 2\n",
    "class Vehiculo:\n",
    "    def __init__(self, color, tipoVehiculo, cilindrada):\n",
    "        self.color = color\n",
    "        self.tipoVehiculo = tipoVehiculo\n",
    "        self.cilindrada = cilindrada\n",
    "    def Acelerar(self):\n",
    "        print('Acelerando..!')\n",
    "    def Frenar(self):\n",
    "        print('Frenando..!')\n",
    "    def Doblar(self):\n",
    "        print('Doblando..!')"
   ]
  },
  {
   "cell_type": "code",
   "execution_count": 8,
   "metadata": {},
   "outputs": [
    {
     "name": "stdout",
     "output_type": "stream",
     "text": [
      "Acelerando..! Estamos yendo a 10km/h\n",
      "Frenando..! Redujimos la marcha a 10km/h\n",
      "Doblando para la der..!\n"
     ]
    }
   ],
   "source": [
    "# 3\n",
    "auto = Vehiculo('rojo', 'auto', 1600)\n",
    "moto = Vehiculo('azul', 'moto', 125)\n",
    "camion = Vehiculo('blanco', 'camion', 3600)\n",
    "\n",
    "auto.Acelerar(10)\n",
    "moto.Frenar(10)\n",
    "camion.Doblar('der')"
   ]
  },
  {
   "cell_type": "code",
   "execution_count": 30,
   "metadata": {},
   "outputs": [],
   "source": [
    "# 4\n",
    "class Vehiculo:\n",
    "    def __init__(self, color, tipoVehiculo, cilindrada):\n",
    "        self.color = color\n",
    "        self.tipoVehiculo = tipoVehiculo\n",
    "        self.cilindrada = cilindrada\n",
    "\n",
    "        self.velocidad = 0\n",
    "        self.direccion = 'izquierda'\n",
    "\n",
    "    def Acelerar(self, velocidad):\n",
    "        self.velocidad += velocidad\n",
    "        print(f'Acelerando..! Estamos yendo a {self.velocidad}km/h')\n",
    "\n",
    "    def Frenar(self, velocidad):\n",
    "        self.velocidad -= velocidad\n",
    "        print(f'Frenando..! Redujimos la marcha a {self.velocidad}km/h')\n",
    "\n",
    "    def Doblar(self, lado):\n",
    "        self.direccion = lado\n",
    "        print(f'Doblando para la {self.direccion}..!')\n",
    "\n",
    "    def Estado(self):\n",
    "        print(f'Estamos yendo a {self.velocidad}km/h y doblando hacia la {self.direccion}')\n",
    "\n",
    "    def Caracteristicas(self):\n",
    "        print(f'El vehículo en cuestión es de color {self.color}, de tipo {self.tipoVehiculo} y tiene una cilindrada de {self.cilindrada}')"
   ]
  },
  {
   "cell_type": "code",
   "execution_count": 34,
   "metadata": {},
   "outputs": [
    {
     "name": "stdout",
     "output_type": "stream",
     "text": [
      "Estamos yendo a 0km/h y doblando hacia la izquierda\n"
     ]
    }
   ],
   "source": [
    "auto1 = Vehiculo('verde', 'auto', 1800)\n",
    "auto1.Estado()"
   ]
  },
  {
   "cell_type": "code",
   "execution_count": 39,
   "metadata": {},
   "outputs": [
    {
     "name": "stdout",
     "output_type": "stream",
     "text": [
      "El vehículo en cuestión es de color verde, de tipo auto y tiene una cilindrada de 1800\n"
     ]
    }
   ],
   "source": [
    "# auto1.Acelerar(10)\n",
    "# auto1.Estado()\n",
    "# auto1.Doblar('derecha')\n",
    "# auto1.Estado()\n",
    "auto1.Caracteristicas()"
   ]
  },
  {
   "cell_type": "code",
   "execution_count": 40,
   "metadata": {},
   "outputs": [],
   "source": [
    "# 5\n",
    "class Herramientas:\n",
    "    def __init__(self):\n",
    "        pass\n",
    "\n",
    "    def verificar_primo(self, num: int) -> bool:\n",
    "        \"\"\"Función que verifica si un dado número es o no primo\n",
    "\n",
    "        Args:\n",
    "            num (int): número a ser verificado\n",
    "\n",
    "        Returns:\n",
    "            bool: True si es primo\n",
    "        \"\"\"        \n",
    "        res_es_primo = True\n",
    "        for divisor in range(2, int(num/2 + 1)):\n",
    "            if num % divisor == 0:\n",
    "                res_es_primo = False\n",
    "                break\n",
    "        return res_es_primo\n",
    "\n",
    "    def valor_modal(self, lis: list) -> tuple:\n",
    "        \"\"\"Función que recibe una lista y calcula la moda de la misma\n",
    "\n",
    "        Args:\n",
    "            lis (list): Lista de enteros\n",
    "\n",
    "        Returns:\n",
    "            tuple: Retorna una tupla de la forma (valor modal, veces que se repitió en la lista inicial)\n",
    "        \"\"\"        \n",
    "        numero_mas_repe = lis[0]\n",
    "        repe = lis.count(numero_mas_repe)\n",
    "        for elem in lis:\n",
    "            repe_aux = lis.count(elem)\n",
    "            if repe_aux >= repe:\n",
    "                if elem > numero_mas_repe:\n",
    "                    numero_mas_repe = elem\n",
    "        return (numero_mas_repe, repe)\n",
    "\n",
    "    def conversion_temperatura(self, valor: float, origen: str, destino: str) -> float:\n",
    "        \"\"\"Función de conversión de temperatura entre °C, °F y K\n",
    "\n",
    "        Args:\n",
    "            valor (float): valor inicial a ser convertido\n",
    "            origen (str): unidad que se quiere convertir\n",
    "            destino (str): unidad a la cual se quiere llegar\n",
    "\n",
    "        Returns:\n",
    "            float: Valor de temperatura convertido al tipo \"destino\"\n",
    "        \"\"\"        \n",
    "        origen = origen.lower()\n",
    "        destino = destino.lower()\n",
    "        t_convertida = None\n",
    "        if origen == destino:\n",
    "            t_convertida = valor\n",
    "        elif origen == 'k':\n",
    "            if destino == 'c':\n",
    "                t_convertida = valor - 273 # K -> C\n",
    "            else:\n",
    "                t_convertida = valor * 9/5 + (32 - 273 * 9/5) # K -> F\n",
    "        elif origen == 'c':\n",
    "            if destino == 'k':\n",
    "                t_convertida = valor + 273 # C -> K\n",
    "            else:\n",
    "                t_convertida = 9/5 * valor + 32 # C -> K\n",
    "        elif origen == 'f':\n",
    "            if destino == 'C':\n",
    "                t_convertida = 5/9 * (valor - 32) # F -> C\n",
    "            else:\n",
    "                t_convertida = 5/9 * (valor - (32 - 273 * 9/5))\n",
    "        return t_convertida\n",
    "    \n",
    "    def factorial(self, n: int) -> int:\n",
    "        \"\"\"Factorial del valor n\n",
    "\n",
    "        Args:\n",
    "            n (int): valor del cual se quiere calcular el factorial\n",
    "\n",
    "        Returns:\n",
    "            int: factorial del valor n\n",
    "        \"\"\"        \n",
    "        if isinstance(n, int) and (n >= 1):\n",
    "            if n == 1:\n",
    "                return 1\n",
    "            else:\n",
    "                valor = n * self.factorial(n - 1)\n",
    "            return valor\n",
    "        else:\n",
    "            print('Amigo flasheaste')"
   ]
  },
  {
   "cell_type": "code",
   "execution_count": 41,
   "metadata": {},
   "outputs": [],
   "source": [
    "herramienta = Herramientas()"
   ]
  },
  {
   "cell_type": "code",
   "execution_count": 43,
   "metadata": {},
   "outputs": [
    {
     "data": {
      "text/plain": [
       "212.0"
      ]
     },
     "execution_count": 43,
     "metadata": {},
     "output_type": "execute_result"
    }
   ],
   "source": [
    "herramienta.conversion_temperatura(100, 'C', 'F')"
   ]
  },
  {
   "cell_type": "code",
   "execution_count": 44,
   "metadata": {},
   "outputs": [
    {
     "data": {
      "text/plain": [
       "24"
      ]
     },
     "execution_count": 44,
     "metadata": {},
     "output_type": "execute_result"
    }
   ],
   "source": [
    "herramienta.factorial(4)"
   ]
  },
  {
   "cell_type": "code",
   "execution_count": 45,
   "metadata": {},
   "outputs": [
    {
     "data": {
      "text/plain": [
       "(6, 2)"
      ]
     },
     "execution_count": 45,
     "metadata": {},
     "output_type": "execute_result"
    }
   ],
   "source": [
    "lista = [1, 1, 2, 2, 3, 3, 3, 4, 5, 6, 6, 7, 9, 0, 10]\n",
    "herramienta.valor_modal(lista)"
   ]
  },
  {
   "cell_type": "code",
   "execution_count": 46,
   "metadata": {},
   "outputs": [],
   "source": [
    "\n",
    "# 7\n",
    "class Herramientas:\n",
    "    def __init__(self, lista_numeros):\n",
    "        self.lista = lista_numeros\n",
    "\n",
    "    \n",
    "    def verificar_primo(self):\n",
    "        for num in self.lista:\n",
    "            if self.__verificar_primo(num):\n",
    "                print(f'El número {num} es primo')\n",
    "            else:\n",
    "                print(f'El número {num} no es primo')\n",
    "    \n",
    "    def factorial(self):\n",
    "        for num in self.lista:\n",
    "            print(f'El factorial de {num} es {self.__factorial(num)}')\n",
    "\n",
    "    def conversion_temperatura(self, origen, destino):\n",
    "        for num in self.lista:\n",
    "            print(f'La temperatura {num} expresada en {origen.upper()} equivale a {self.__conversion_temperatura(num, origen, destino)} en {destino.upper()}.')\n",
    "\n",
    "    def __verificar_primo(self, num: int) -> bool:\n",
    "        \"\"\"Función que verifica si un dado número es o no primo\n",
    "\n",
    "        Args:\n",
    "            num (int): número a ser verificado\n",
    "\n",
    "        Returns:\n",
    "            bool: True si es primo\n",
    "        \"\"\"        \n",
    "        res_es_primo = True\n",
    "        for divisor in range(2, int(num/2 + 1)):\n",
    "            if num % divisor == 0:\n",
    "                res_es_primo = False\n",
    "                break\n",
    "        return res_es_primo\n",
    "\n",
    "    def valor_modal(self, lis: list) -> tuple:\n",
    "        \"\"\"Función que recibe una lista y calcula la moda de la misma\n",
    "\n",
    "        Args:\n",
    "            lis (list): Lista de enteros\n",
    "\n",
    "        Returns:\n",
    "            tuple: Retorna una tupla de la forma (valor modal, veces que se repitió en la lista inicial)\n",
    "        \"\"\"        \n",
    "        numero_mas_repe = lis[0]\n",
    "        repe = lis.count(numero_mas_repe)\n",
    "        for elem in lis:\n",
    "            repe_aux = lis.count(elem)\n",
    "            if repe_aux >= repe:\n",
    "                if elem > numero_mas_repe:\n",
    "                    numero_mas_repe = elem\n",
    "        return (numero_mas_repe, repe)\n",
    "\n",
    "    def __conversion_temperatura(self, valor: float, origen: str, destino: str) -> float:\n",
    "        \"\"\"Función de conversión de temperatura entre °C, °F y K\n",
    "\n",
    "        Args:\n",
    "            valor (float): valor inicial a ser convertido\n",
    "            origen (str): unidad que se quiere convertir\n",
    "            destino (str): unidad a la cual se quiere llegar\n",
    "\n",
    "        Returns:\n",
    "            float: Valor de temperatura convertido al tipo \"destino\"\n",
    "        \"\"\"        \n",
    "        origen = origen.lower()\n",
    "        destino = destino.lower()\n",
    "        t_convertida = None\n",
    "        if origen == destino:\n",
    "            t_convertida = valor\n",
    "        elif origen == 'k':\n",
    "            if destino == 'c':\n",
    "                t_convertida = valor - 273 # K -> C\n",
    "            else:\n",
    "                t_convertida = valor * 9/5 + (32 - 273 * 9/5) # K -> F\n",
    "        elif origen == 'c':\n",
    "            if destino == 'k':\n",
    "                t_convertida = valor + 273 # C -> K\n",
    "            else:\n",
    "                t_convertida = 9/5 * valor + 32 # C -> K\n",
    "        elif origen == 'f':\n",
    "            if destino == 'C':\n",
    "                t_convertida = 5/9 * (valor - 32) # F -> C\n",
    "            else:\n",
    "                t_convertida = 5/9 * (valor - (32 - 273 * 9/5))\n",
    "        return t_convertida\n",
    "    \n",
    "    def __factorial(self, n: int) -> int:\n",
    "        \"\"\"Factorial del valor n\n",
    "\n",
    "        Args:\n",
    "            n (int): valor del cual se quiere calcular el factorial\n",
    "\n",
    "        Returns:\n",
    "            int: factorial del valor n\n",
    "        \"\"\"        \n",
    "        if isinstance(n, int) and (n >= 1):\n",
    "            if n == 1:\n",
    "                return 1\n",
    "            else:\n",
    "                valor = n * self.__factorial(n - 1)\n",
    "            return valor\n",
    "        else:\n",
    "            print('Amigo flasheaste')"
   ]
  },
  {
   "cell_type": "code",
   "execution_count": 49,
   "metadata": {},
   "outputs": [],
   "source": [
    "lista_de_numeros = [1, 10, 50, 1, 1, 1]\n",
    "h = Herramientas(lista_de_numeros)"
   ]
  },
  {
   "cell_type": "code",
   "execution_count": 50,
   "metadata": {},
   "outputs": [
    {
     "data": {
      "text/plain": [
       "(1, 4)"
      ]
     },
     "execution_count": 50,
     "metadata": {},
     "output_type": "execute_result"
    }
   ],
   "source": [
    "h.valor_modal(lista_de_numeros)"
   ]
  },
  {
   "cell_type": "code",
   "execution_count": 53,
   "metadata": {},
   "outputs": [],
   "source": [
    "from modulo.herramientas import *"
   ]
  },
  {
   "cell_type": "code",
   "execution_count": 54,
   "metadata": {},
   "outputs": [],
   "source": [
    "herram = Herramientas([1, 2, 3])"
   ]
  },
  {
   "cell_type": "code",
   "execution_count": 55,
   "metadata": {},
   "outputs": [
    {
     "name": "stdout",
     "output_type": "stream",
     "text": [
      "El factorial de  1 es 1\n",
      "El factorial de  2 es 2\n",
      "El factorial de  3 es 6\n"
     ]
    }
   ],
   "source": [
    "herram.factorial()"
   ]
  },
  {
   "cell_type": "code",
   "execution_count": 56,
   "metadata": {},
   "outputs": [],
   "source": [
    "from modulo.herramientas import Herramientas as her"
   ]
  },
  {
   "cell_type": "code",
   "execution_count": 57,
   "metadata": {},
   "outputs": [
    {
     "name": "stdout",
     "output_type": "stream",
     "text": [
      "El factorial de  1 es 1\n",
      "El factorial de  2 es 2\n",
      "El factorial de  3 es 6\n",
      "El factorial de  4 es 24\n"
     ]
    }
   ],
   "source": [
    "algo = her([1, 2, 3, 4])\n",
    "algo.factorial()"
   ]
  }
 ],
 "metadata": {
  "kernelspec": {
   "display_name": "Python 3",
   "language": "python",
   "name": "python3"
  },
  "language_info": {
   "codemirror_mode": {
    "name": "ipython",
    "version": 3
   },
   "file_extension": ".py",
   "mimetype": "text/x-python",
   "name": "python",
   "nbconvert_exporter": "python",
   "pygments_lexer": "ipython3",
   "version": "3.11.1"
  },
  "orig_nbformat": 4,
  "vscode": {
   "interpreter": {
    "hash": "5238573367df39f7286bb46f9ff5f08f63a01a80960060ce41e3c79b190280fa"
   }
  }
 },
 "nbformat": 4,
 "nbformat_minor": 2
}
