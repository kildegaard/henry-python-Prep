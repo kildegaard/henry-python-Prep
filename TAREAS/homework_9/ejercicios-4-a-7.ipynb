{
 "cells": [
  {
   "cell_type": "code",
   "execution_count": 6,
   "metadata": {},
   "outputs": [
    {
     "name": "stdout",
     "output_type": "stream",
     "text": [
      "Tamaño del archivo: 0.19 MB\n"
     ]
    }
   ],
   "source": [
    "# 4\n",
    "import os\n",
    "\n",
    "print(f\"Tamaño del archivo: {round(os.path.getsize(filename='./clase09_ej3.csv') / 1024, 2)} MB\")"
   ]
  },
  {
   "cell_type": "code",
   "execution_count": 16,
   "metadata": {},
   "outputs": [
    {
     "name": "stdout",
     "output_type": "stream",
     "text": [
      "Directorio actual: c:\\Users\\gusta\\Desktop\\github\\henry-python-Prep\\TAREAS\\homework_9\n",
      "Creo carpeta clase09_montañas_altas\n"
     ]
    }
   ],
   "source": [
    "# 5\n",
    "print(f'Directorio actual: {os.getcwd()}')\n",
    "print('Creo carpeta clase09_montañas_altas')\n",
    "os.makedirs('clase09_montañas_altas')"
   ]
  },
  {
   "cell_type": "code",
   "execution_count": 21,
   "metadata": {},
   "outputs": [
    {
     "data": {
      "text/plain": [
       "0"
      ]
     },
     "execution_count": 21,
     "metadata": {},
     "output_type": "execute_result"
    }
   ],
   "source": [
    "# 6\n",
    "os.system('copy clase09_ej3.csv clase09_montañas_altas')"
   ]
  },
  {
   "cell_type": "code",
   "execution_count": 30,
   "metadata": {},
   "outputs": [
    {
     "data": {
      "text/plain": [
       "['clase09_ej1.py',\n",
       " 'clase09_ej2.csv',\n",
       " 'clase09_ej2.py',\n",
       " 'clase09_ej3.csv',\n",
       " 'clase09_ej3.py',\n",
       " 'clase09_montañas_altas',\n",
       " 'ejercicios-4-a-7.ipynb',\n",
       " 'probando.py']"
      ]
     },
     "execution_count": 30,
     "metadata": {},
     "output_type": "execute_result"
    }
   ],
   "source": [
    "# 7\n",
    "os.listdir('./')"
   ]
  }
 ],
 "metadata": {
  "kernelspec": {
   "display_name": "Python 3",
   "language": "python",
   "name": "python3"
  },
  "language_info": {
   "codemirror_mode": {
    "name": "ipython",
    "version": 3
   },
   "file_extension": ".py",
   "mimetype": "text/x-python",
   "name": "python",
   "nbconvert_exporter": "python",
   "pygments_lexer": "ipython3",
   "version": "3.11.1"
  },
  "orig_nbformat": 4,
  "vscode": {
   "interpreter": {
    "hash": "5238573367df39f7286bb46f9ff5f08f63a01a80960060ce41e3c79b190280fa"
   }
  }
 },
 "nbformat": 4,
 "nbformat_minor": 2
}
